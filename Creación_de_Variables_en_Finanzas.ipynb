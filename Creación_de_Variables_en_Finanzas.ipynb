{
  "nbformat": 4,
  "nbformat_minor": 0,
  "metadata": {
    "colab": {
      "private_outputs": true,
      "provenance": [],
      "authorship_tag": "ABX9TyN9U1SYjWhnyHAxtcZ+AJbT",
      "include_colab_link": true
    },
    "kernelspec": {
      "name": "python3",
      "display_name": "Python 3"
    },
    "language_info": {
      "name": "python"
    }
  },
  "cells": [
    {
      "cell_type": "markdown",
      "metadata": {
        "id": "view-in-github",
        "colab_type": "text"
      },
      "source": [
        "<a href=\"https://colab.research.google.com/github/WellcomePeujio/Creacion-de-Variables-en-Finanzas/blob/main/Creaci%C3%B3n_de_Variables_en_Finanzas.ipynb\" target=\"_parent\"><img src=\"https://colab.research.google.com/assets/colab-badge.svg\" alt=\"Open In Colab\"/></a>"
      ]
    },
    {
      "cell_type": "markdown",
      "source": [
        "# Creación de Variables en Finanzas\n",
        "\n",
        "## Planteamiento del Problema\n",
        "\n",
        "Supongamos que tienes los siguientes datos financieros:\n",
        "\n",
        "- **Salario mensual**: $5,000  \n",
        "\n",
        "- **Gastos mensuales**: $3,500  \n",
        "\n",
        "- **Tasa de ahorro deseada**: 10%  \n",
        "\n",
        "### Objetivo\n",
        "1. Define las variables para el salario, los gastos y la tasa de ahorro.  \n",
        "2. Calcula cuánto dinero ahorrarías al mes usando la fórmula:  \n",
        "\n",
        "$$\n",
        "Ahorro = Salario \\times Tasa\\_de\\_Ahorro\n",
        "$$\n",
        "\n",
        "3. Muestra el resultado.\n"
      ],
      "metadata": {
        "id": "ENVUjZhQmM7w"
      }
    },
    {
      "cell_type": "code",
      "source": [
        "# Definición de las variables financieras\n",
        "salario = 5000  # Salario mensual en dólares\n",
        "gastos = 3500   # Gastos mensuales en dólares\n",
        "tasa_ahorro = 0.1  # Tasa de ahorro deseada (10%)\n",
        "\n",
        "# Cálculo del ahorro mensual\n",
        "ahorro = salario * tasa_ahorro\n",
        "\n",
        "# Mostrar el resultado\n",
        "print(\"El ahorro mensual es de ${:.2f}\".format(ahorro))"
      ],
      "metadata": {
        "id": "ptmbl3QpmWra"
      },
      "execution_count": null,
      "outputs": []
    }
  ]
}